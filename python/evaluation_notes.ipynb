{
 "cells": [
  {
   "cell_type": "markdown",
   "metadata": {},
   "source": [
    "# Load Data and Models"
   ]
  },
  {
   "cell_type": "code",
   "execution_count": null,
   "metadata": {
    "collapsed": true
   },
   "outputs": [],
   "source": [
    "import numpy as np\n",
    "import h5py"
   ]
  },
  {
   "cell_type": "code",
   "execution_count": null,
   "metadata": {
    "collapsed": false
   },
   "outputs": [],
   "source": [
    "f = h5py.File('/home/nam/codes/vectorlearn/data/dataset.h5','r')\n",
    "# print f.name\n",
    "# print f.keys()\n",
    "# print f['Words'].attrs['num_words']\n",
    "# print f['Words'].keys()\n",
    "\n",
    "words_grp = f['Words']\n",
    "words_freq_info_dset = words_grp['freq_info']\n",
    "# print words_freq_info_dset.len()\n",
    "word_vocab_size = words_freq_info_dset.len()\n",
    "word_vocab = np.array([words_freq_info_dset[i][0].decode('utf-8') for i in xrange(word_vocab_size)])\n",
    "\n",
    "f.close()"
   ]
  },
  {
   "cell_type": "code",
   "execution_count": null,
   "metadata": {
    "collapsed": false
   },
   "outputs": [],
   "source": [
    "f = h5py.File('/home/nam/codes/vectorlearn/data/dataset.h5','r')\n",
    "# print f.keys()\n",
    "labels_grp = f['Labels']\n",
    "# print labels_grp.keys()\n",
    "label_desc_word_indices_dset = labels_grp['entity_indices']\n",
    "label_offset_dset = labels_grp['offset_info']\n",
    "# print label_offset_dset[0][0]\n",
    "label_vocab_size = label_offset_dset.len()\n",
    "label_vocab = np.array([label_offset_dset[i][0].decode('utf-8') for i in xrange(label_vocab_size)])\n",
    "label_descriptions = []\n",
    "for i in xrange(label_vocab_size):\n",
    "    offset = long(label_offset_dset[i][1])\n",
    "    desc_length = long(label_offset_dset[i][2])\n",
    "    label_descriptions.append(' '.join(word_vocab[label_desc_word_indices_dset[offset:(offset+desc_length)]]))\n",
    "    \n",
    "label_descriptions = np.array(label_descriptions)\n",
    "f.close()"
   ]
  },
  {
   "cell_type": "code",
   "execution_count": null,
   "metadata": {
    "collapsed": false
   },
   "outputs": [],
   "source": [
    "print label_descriptions[0]"
   ]
  },
  {
   "cell_type": "code",
   "execution_count": null,
   "metadata": {
    "collapsed": false
   },
   "outputs": [],
   "source": [
    "\"\"\"\n",
    "Load the trained model\n",
    "\"\"\"\n",
    "\n",
    "from utils import *\n",
    "\n",
    "model = load_model('/home/nam/codes/vectorlearn/data/BioASQ_label_desc_small_dataset_model.vectors')"
   ]
  },
  {
   "cell_type": "code",
   "execution_count": null,
   "metadata": {
    "collapsed": false
   },
   "outputs": [],
   "source": [
    "print model['word_emb'].shape"
   ]
  },
  {
   "cell_type": "code",
   "execution_count": null,
   "metadata": {
    "collapsed": false
   },
   "outputs": [],
   "source": [
    "for i in xrange(len(label_vocab)):\n",
    "    label_vocab[i] = label_vocab[i].replace('_',' ')\n",
    "    "
   ]
  },
  {
   "cell_type": "markdown",
   "metadata": {},
   "source": [
    "# Analysis"
   ]
  },
  {
   "cell_type": "code",
   "execution_count": null,
   "metadata": {
    "collapsed": true
   },
   "outputs": [],
   "source": [
    "\n",
    "import pandas as pd\n",
    "from bokeh.io import output_notebook, show"
   ]
  },
  {
   "cell_type": "code",
   "execution_count": null,
   "metadata": {
    "collapsed": false
   },
   "outputs": [],
   "source": [
    "output_notebook()"
   ]
  },
  {
   "cell_type": "markdown",
   "metadata": {},
   "source": [
    "## 2D projection for word embeddings "
   ]
  },
  {
   "cell_type": "code",
   "execution_count": null,
   "metadata": {
    "collapsed": false
   },
   "outputs": [],
   "source": [
    "import numpy as np\n",
    "from sklearn.manifold import TSNE"
   ]
  },
  {
   "cell_type": "code",
   "execution_count": null,
   "metadata": {
    "collapsed": true
   },
   "outputs": [],
   "source": [
    "\"\"\"\n",
    "Run tSNE\n",
    "\"\"\"\n",
    "tsne = TSNE(n_components=2, verbose=2, init='pca', perplexity=30, learning_rate=100, early_exaggeration=1)\n",
    "mapped_word_embeddings = tsne.fit_transform(model['word_emb'][0:3000,:])"
   ]
  },
  {
   "cell_type": "code",
   "execution_count": null,
   "metadata": {
    "collapsed": true
   },
   "outputs": [],
   "source": [
    "from bokeh.plotting import figure, show, output_file, ColumnDataSource\n",
    "from bokeh.models import HoverTool, WheelZoomTool"
   ]
  },
  {
   "cell_type": "code",
   "execution_count": null,
   "metadata": {
    "collapsed": true
   },
   "outputs": [],
   "source": [
    "\"\"\"\n",
    "Plot word embeddings \n",
    "\"\"\"\n",
    "output_file(\"/home/nam/Dropbox/word_embeddings.html\")\n",
    "fig = figure(title=\"word embeddings\")\n",
    "\n",
    "for i in xrange(mapped_word_embeddings.shape[0]):\n",
    "    fig.text(mapped_word_embeddings[i,0], mapped_word_embeddings[i,1], text=[word_vocab[i]], text_color=\"blue\", text_align=\"center\", text_font_size=\"10pt\")\n",
    "    \n",
    "show(fig)"
   ]
  },
  {
   "cell_type": "markdown",
   "metadata": {},
   "source": [
    "## 2D projection for label embeddings"
   ]
  },
  {
   "cell_type": "code",
   "execution_count": null,
   "metadata": {
    "collapsed": true
   },
   "outputs": [],
   "source": [
    "\"\"\"\n",
    "Run tSNE\n",
    "\"\"\"\n",
    "tsne = TSNE(n_components=2, verbose=2, init='pca', perplexity=30, learning_rate=1000, early_exaggeration=1)\n",
    "mapped_label_embeddings = tsne.fit_transform(model['label_emb'][0:5000,:])"
   ]
  },
  {
   "cell_type": "code",
   "execution_count": null,
   "metadata": {
    "collapsed": true
   },
   "outputs": [],
   "source": [
    "\"\"\"\n",
    "Plot label embeddings \n",
    "\"\"\"\n",
    "output_file(\"/home/nam/Dropbox/label_embeddings.html\")\n",
    "fig = figure(title=\"Seen label embeddings\")\n",
    "\n",
    "for i in xrange(mapped_label_embeddings.shape[0]):\n",
    "    fig.text(mapped_label_embeddings[i,0], mapped_label_embeddings[i,1], text=[label_vocab[i]], text_color=\"blue\", text_align=\"center\", text_font_size=\"10pt\")\n",
    "    \n",
    "show(fig)"
   ]
  },
  {
   "cell_type": "markdown",
   "metadata": {},
   "source": [
    "## Analysis on the test set"
   ]
  },
  {
   "cell_type": "code",
   "execution_count": null,
   "metadata": {
    "collapsed": false
   },
   "outputs": [],
   "source": [
    "print len(label_vocab)"
   ]
  },
  {
   "cell_type": "code",
   "execution_count": null,
   "metadata": {
    "collapsed": false
   },
   "outputs": [],
   "source": [
    "label_embeddings = model['label_emb']\n",
    "print label_embeddings.shape[0]\n",
    "num_seen_labels = label_embeddings.shape[0]"
   ]
  },
  {
   "cell_type": "code",
   "execution_count": null,
   "metadata": {
    "collapsed": false
   },
   "outputs": [],
   "source": [
    "print 'Number of unseen labels: %d' % (len(label_vocab) - label_embeddings.shape[0])"
   ]
  },
  {
   "cell_type": "code",
   "execution_count": null,
   "metadata": {
    "collapsed": false
   },
   "outputs": [],
   "source": [
    "test_model = load_inferred_test_instances('/home/nam/codes/vectorlearn/data/BioASQ_label_desc_small_dataset_model.inferred_testset_vectors')"
   ]
  },
  {
   "cell_type": "code",
   "execution_count": null,
   "metadata": {
    "collapsed": false
   },
   "outputs": [],
   "source": [
    "print test_model.keys()"
   ]
  },
  {
   "cell_type": "code",
   "execution_count": null,
   "metadata": {
    "collapsed": false
   },
   "outputs": [],
   "source": [
    "print test_model['test_doc_emb'].shape"
   ]
  },
  {
   "cell_type": "code",
   "execution_count": null,
   "metadata": {
    "collapsed": false
   },
   "outputs": [],
   "source": [
    "print test_model['unseen_label_emb'].shape"
   ]
  },
  {
   "cell_type": "markdown",
   "metadata": {},
   "source": [
    "## Plot of unseen labels "
   ]
  },
  {
   "cell_type": "code",
   "execution_count": null,
   "metadata": {
    "collapsed": false
   },
   "outputs": [],
   "source": [
    "\"\"\"\n",
    "Run tSNE\n",
    "\"\"\"\n",
    "tsne = TSNE(n_components=2, verbose=2, init='pca', perplexity=30, learning_rate=1000, early_exaggeration=1)\n",
    "mapped_unseen_label_embeddings = tsne.fit_transform(test_model['unseen_label_emb'])"
   ]
  },
  {
   "cell_type": "code",
   "execution_count": null,
   "metadata": {
    "collapsed": false,
    "scrolled": true
   },
   "outputs": [],
   "source": [
    "\"\"\"\n",
    "Plot label embeddings \n",
    "\"\"\"\n",
    "output_file(\"/home/nam/Dropbox/unseen_label_embeddings.html\")\n",
    "\n",
    "# # TODO change the following source later\n",
    "# seen_source = ColumnDataSource(\n",
    "#         data=dict(\n",
    "#             x=mapped_unseen_label_embeddings[:,0]+1,\n",
    "#             y=mapped_unseen_label_embeddings[:,1]+5,\n",
    "#             name=label_vocab[num_seen_labels:],\n",
    "#             desc=label_descriptions[num_seen_labels:],\n",
    "#         )\n",
    "#     )\n",
    "\n",
    "unseen_source = ColumnDataSource(\n",
    "        data=dict(\n",
    "            x=mapped_unseen_label_embeddings[:,0],\n",
    "            y=mapped_unseen_label_embeddings[:,1],\n",
    "            name=label_vocab[num_seen_labels:],\n",
    "            desc=label_descriptions[num_seen_labels:],\n",
    "        )\n",
    "    )\n",
    "\n",
    "hover = HoverTool(\n",
    "    tooltips=\"\"\"\n",
    "        <div style=\"max-width:300px;\">\n",
    "            <div>\n",
    "                <span style=\"font-size: 17px; font-weight: bold; color:SeaGreen; max-width:200px;\">@name</span>\n",
    "            </div>\n",
    "            <div>\n",
    "                <span style=\"font-size: 14px;\">@desc</span>\n",
    "            </div>\n",
    "        </div>\n",
    "        \"\"\"\n",
    "    )\n",
    "\n",
    "fig = figure(title=\"Unseen label embeddings\")\n",
    "fig.add_tools(hover)\n",
    "\n",
    "fig.text('x','y', text='name', text_color='blue', text_align=\"left\", text_font_size=\"10pt\", source=unseen_source)\n",
    "fig.circle('x', 'y', size=8, line_color='red', fill_color='white', fill_alpha=0, source=unseen_source)\n",
    "\n",
    "# # TODO change the following figure according to the data\n",
    "# fig.circle('x', 'y', size=10, fill_color='blue', source=seen_source)\n",
    "    \n",
    "show(fig)"
   ]
  },
  {
   "cell_type": "code",
   "execution_count": null,
   "metadata": {
    "collapsed": true
   },
   "outputs": [],
   "source": []
  }
 ],
 "metadata": {
  "kernelspec": {
   "display_name": "Python 2",
   "language": "python",
   "name": "python2"
  },
  "language_info": {
   "codemirror_mode": {
    "name": "ipython",
    "version": 2
   },
   "file_extension": ".py",
   "mimetype": "text/x-python",
   "name": "python",
   "nbconvert_exporter": "python",
   "pygments_lexer": "ipython2",
   "version": "2.7.6"
  }
 },
 "nbformat": 4,
 "nbformat_minor": 0
}
